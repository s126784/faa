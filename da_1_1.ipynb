{
 "cells": [
  {
   "cell_type": "markdown",
   "metadata": {},
   "source": [
    "Ex. 1.1 — Let $\\mathbf{X} = [X_1 ; X_2]'$ be a random vector with $E(X_1) = E(X_2) = 2$, $Var(X_1) = 1$, $Var(X_2) = 5$ and $E(X_1X_2) = 2$. Let $\\mathbf{a} = [1 ; 0]'$ and $\\mathbf{b} = [2 ; -1]'$"
   ]
  },
  {
   "cell_type": "code",
   "execution_count": 20,
   "metadata": {},
   "outputs": [],
   "source": [
    "from IPython.display import display, Markdown\n",
    "import numpy as np\n",
    "from sympy import init_printing, Matrix\n",
    "\n",
    "# Given values\n",
    "E_X1 = E_X2 = 2\n",
    "Var_X1 = 1\n",
    "Var_X2 = 5\n",
    "E_X1X2 = 2\n",
    "a = np.array([1, 0])\n",
    "b = np.array([2, -1])\n",
    "E_X = np.array([E_X1, E_X2])"
   ]
  },
  {
   "cell_type": "code",
   "execution_count": 22,
   "metadata": {},
   "outputs": [
    {
     "data": {
      "text/markdown": [
       "$$E(a - X) = "
      ],
      "text/plain": [
       "<IPython.core.display.Markdown object>"
      ]
     },
     "metadata": {},
     "output_type": "display_data"
    },
    {
     "data": {
      "text/latex": [
       "$\\displaystyle \\left[\\begin{matrix}-1\\\\-2\\end{matrix}\\right]$"
      ],
      "text/plain": [
       "Matrix([\n",
       "[-1],\n",
       "[-2]])"
      ]
     },
     "metadata": {},
     "output_type": "display_data"
    }
   ],
   "source": [
    "\n",
    "# 1. E(a - X)\n",
    "# E(a - X) = a - E(X)\n",
    "E_a_minus_X = a - E_X\n",
    "# print(\"1. E(a - X):\", E_a_minus_X)\n",
    "display(Markdown(\"$$E(a - X) = \"))\n",
    "display(Matrix(E_a_minus_X))\n"
   ]
  },
  {
   "cell_type": "code",
   "execution_count": 18,
   "metadata": {},
   "outputs": [
    {
     "name": "stdout",
     "output_type": "stream",
     "text": [
      "\n",
      "2. Covariance matrix of X:\n"
     ]
    },
    {
     "data": {
      "text/latex": [
       "$\\displaystyle \\left[\\begin{matrix}1 & -2\\\\-2 & 5\\end{matrix}\\right]$"
      ],
      "text/plain": [
       "Matrix([\n",
       "[ 1, -2],\n",
       "[-2,  5]])"
      ]
     },
     "metadata": {},
     "output_type": "display_data"
    },
    {
     "name": "stdout",
     "output_type": "stream",
     "text": [
      "Is positive definite: True\n"
     ]
    }
   ],
   "source": [
    "\n",
    "# 2. Covariance matrix of X\n",
    "# First, calculate Cov(X1,X2) = E(X1X2) - E(X1)E(X2)\n",
    "Cov_X1X2 = E_X1X2 - E_X1*E_X2\n",
    "Sigma = np.array([[Var_X1, Cov_X1X2],\n",
    "                  [Cov_X1X2, Var_X2]])\n",
    "print(\"\\n2. Covariance matrix of X:\")\n",
    "display(Matrix(Sigma))\n",
    "\n",
    "# Check if matrix is positive definite\n",
    "eigenvalues = np.linalg.eigvals(Sigma)\n",
    "is_positive_definite = np.all(eigenvalues > 0)\n",
    "print(\"Is positive definite:\", is_positive_definite)"
   ]
  },
  {
   "cell_type": "code",
   "execution_count": 5,
   "metadata": {},
   "outputs": [
    {
     "name": "stdout",
     "output_type": "stream",
     "text": [
      "\n",
      "3. Var(2 - b'X): 17\n"
     ]
    }
   ],
   "source": [
    "\n",
    "# 3. Var(2 - b'X)\n",
    "# Var(2 - b'X) = Var(-b'X) = b'Σb\n",
    "Var_2_minus_bX = b.T @ Sigma @ b\n",
    "print(\"\\n3. Var(2 - b'X):\", Var_2_minus_bX)\n"
   ]
  },
  {
   "cell_type": "code",
   "execution_count": 24,
   "metadata": {},
   "outputs": [
    {
     "data": {
      "text/markdown": [
       "$$E(Z) = Matrix([[2], [0], [2]])$$"
      ],
      "text/plain": [
       "<IPython.core.display.Markdown object>"
      ]
     },
     "metadata": {},
     "output_type": "display_data"
    },
    {
     "name": "stdout",
     "output_type": "stream",
     "text": [
      "\n",
      "Covariance matrix of Z:\n"
     ]
    },
    {
     "data": {
      "text/latex": [
       "$\\displaystyle \\left[\\begin{matrix}1 & 3 & -2\\\\3 & 10 & -7\\\\-2 & -7 & 5\\end{matrix}\\right]$"
      ],
      "text/plain": [
       "Matrix([\n",
       "[ 1,  3, -2],\n",
       "[ 3, 10, -7],\n",
       "[-2, -7,  5]])"
      ]
     },
     "metadata": {},
     "output_type": "display_data"
    }
   ],
   "source": [
    "\n",
    "# 4. For Z matrix\n",
    "# First, let's create the transformation matrix A\n",
    "A = np.array([[1, 0],\n",
    "              [1, -1],\n",
    "              [0, 1]])\n",
    "\n",
    "# E(Z) = AE(X)\n",
    "E_Z = A @ E_X\n",
    "# print(\"\\n4. E(Z):\")\n",
    "# display(Matrix(E_Z))\n",
    "display(Markdown(\"$$E(Z) = {}$$\".format(Matrix(E_Z))))\n",
    "\n",
    "# Cov(Z) = AΣA'\n",
    "Cov_Z = A @ Sigma @ A.T\n",
    "print(\"\\nCovariance matrix of Z:\")\n",
    "display(Matrix(Cov_Z))"
   ]
  }
 ],
 "metadata": {
  "kernelspec": {
   "display_name": "ds",
   "language": "python",
   "name": "python3"
  },
  "language_info": {
   "codemirror_mode": {
    "name": "ipython",
    "version": 3
   },
   "file_extension": ".py",
   "mimetype": "text/x-python",
   "name": "python",
   "nbconvert_exporter": "python",
   "pygments_lexer": "ipython3",
   "version": "3.12.7"
  }
 },
 "nbformat": 4,
 "nbformat_minor": 2
}
